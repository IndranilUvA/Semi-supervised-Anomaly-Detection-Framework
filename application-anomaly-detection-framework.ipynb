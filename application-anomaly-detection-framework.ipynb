{
 "cells": [
  {
   "cell_type": "code",
   "execution_count": 1,
   "metadata": {
    "_cell_guid": "b1076dfc-b9ad-4769-8c92-a6c4dae69d19",
    "_uuid": "8f2839f25d086af736a60e9eeb907d3b93b6e0e5",
    "execution": {
     "iopub.execute_input": "2023-04-03T20:13:06.498979Z",
     "iopub.status.busy": "2023-04-03T20:13:06.498406Z",
     "iopub.status.idle": "2023-04-03T20:13:07.671160Z",
     "shell.execute_reply": "2023-04-03T20:13:07.670620Z",
     "shell.execute_reply.started": "2023-04-03T20:08:04.633636Z"
    },
    "papermill": {
     "duration": 1.199245,
     "end_time": "2023-04-03T20:13:07.671275",
     "exception": false,
     "start_time": "2023-04-03T20:13:06.472030",
     "status": "completed"
    },
    "tags": []
   },
   "outputs": [],
   "source": [
    "import numpy as np\n",
    "import pandas as pd\n",
    "from scipy.stats import ks_2samp\n",
    "\n",
    "from sklearn.cluster import DBSCAN\n",
    "from sklearn import metrics\n",
    "from sklearn.preprocessing import StandardScaler\n",
    "from sklearn.preprocessing import MinMaxScaler\n",
    "from sklearn.model_selection import KFold\n",
    "from sklearn.neighbors import NearestNeighbors\n",
    "\n",
    "import time\n",
    "\n",
    "import matplotlib.pyplot as plt\n",
    "import seaborn as sns\n",
    "\n",
    "import lightgbm as lgb"
   ]
  },
  {
   "cell_type": "code",
   "execution_count": 2,
   "metadata": {
    "execution": {
     "iopub.execute_input": "2023-04-03T20:13:07.716758Z",
     "iopub.status.busy": "2023-04-03T20:13:07.716122Z",
     "iopub.status.idle": "2023-04-03T20:13:07.718711Z",
     "shell.execute_reply": "2023-04-03T20:13:07.718257Z",
     "shell.execute_reply.started": "2023-04-03T20:08:06.128305Z"
    },
    "papermill": {
     "duration": 0.027107,
     "end_time": "2023-04-03T20:13:07.718819",
     "exception": false,
     "start_time": "2023-04-03T20:13:07.691712",
     "status": "completed"
    },
    "tags": []
   },
   "outputs": [],
   "source": [
    "np.random.seed(0)"
   ]
  },
  {
   "cell_type": "code",
   "execution_count": 3,
   "metadata": {
    "_cell_guid": "79c7e3d0-c299-4dcb-8224-4455121ee9b0",
    "_uuid": "d629ff2d2480ee46fbb7e2d37f6b5fab8052498a",
    "execution": {
     "iopub.execute_input": "2023-04-03T20:13:07.771556Z",
     "iopub.status.busy": "2023-04-03T20:13:07.770957Z",
     "iopub.status.idle": "2023-04-03T20:13:11.275306Z",
     "shell.execute_reply": "2023-04-03T20:13:11.274666Z",
     "shell.execute_reply.started": "2023-04-03T20:08:06.135878Z"
    },
    "papermill": {
     "duration": 3.535021,
     "end_time": "2023-04-03T20:13:11.275443",
     "exception": false,
     "start_time": "2023-04-03T20:13:07.740422",
     "status": "completed"
    },
    "tags": []
   },
   "outputs": [
    {
     "data": {
      "text/html": [
       "<div>\n",
       "<style scoped>\n",
       "    .dataframe tbody tr th:only-of-type {\n",
       "        vertical-align: middle;\n",
       "    }\n",
       "\n",
       "    .dataframe tbody tr th {\n",
       "        vertical-align: top;\n",
       "    }\n",
       "\n",
       "    .dataframe thead th {\n",
       "        text-align: right;\n",
       "    }\n",
       "</style>\n",
       "<table border=\"1\" class=\"dataframe\">\n",
       "  <thead>\n",
       "    <tr style=\"text-align: right;\">\n",
       "      <th></th>\n",
       "      <th>Time</th>\n",
       "      <th>V1</th>\n",
       "      <th>V2</th>\n",
       "      <th>V3</th>\n",
       "      <th>V4</th>\n",
       "      <th>V5</th>\n",
       "      <th>V6</th>\n",
       "      <th>V7</th>\n",
       "      <th>V8</th>\n",
       "      <th>V9</th>\n",
       "      <th>...</th>\n",
       "      <th>V21</th>\n",
       "      <th>V22</th>\n",
       "      <th>V23</th>\n",
       "      <th>V24</th>\n",
       "      <th>V25</th>\n",
       "      <th>V26</th>\n",
       "      <th>V27</th>\n",
       "      <th>V28</th>\n",
       "      <th>Amount</th>\n",
       "      <th>Class</th>\n",
       "    </tr>\n",
       "  </thead>\n",
       "  <tbody>\n",
       "    <tr>\n",
       "      <th>0</th>\n",
       "      <td>0.0</td>\n",
       "      <td>-1.359807</td>\n",
       "      <td>-0.072781</td>\n",
       "      <td>2.536347</td>\n",
       "      <td>1.378155</td>\n",
       "      <td>-0.338321</td>\n",
       "      <td>0.462388</td>\n",
       "      <td>0.239599</td>\n",
       "      <td>0.098698</td>\n",
       "      <td>0.363787</td>\n",
       "      <td>...</td>\n",
       "      <td>-0.018307</td>\n",
       "      <td>0.277838</td>\n",
       "      <td>-0.110474</td>\n",
       "      <td>0.066928</td>\n",
       "      <td>0.128539</td>\n",
       "      <td>-0.189115</td>\n",
       "      <td>0.133558</td>\n",
       "      <td>-0.021053</td>\n",
       "      <td>149.62</td>\n",
       "      <td>0</td>\n",
       "    </tr>\n",
       "    <tr>\n",
       "      <th>1</th>\n",
       "      <td>0.0</td>\n",
       "      <td>1.191857</td>\n",
       "      <td>0.266151</td>\n",
       "      <td>0.166480</td>\n",
       "      <td>0.448154</td>\n",
       "      <td>0.060018</td>\n",
       "      <td>-0.082361</td>\n",
       "      <td>-0.078803</td>\n",
       "      <td>0.085102</td>\n",
       "      <td>-0.255425</td>\n",
       "      <td>...</td>\n",
       "      <td>-0.225775</td>\n",
       "      <td>-0.638672</td>\n",
       "      <td>0.101288</td>\n",
       "      <td>-0.339846</td>\n",
       "      <td>0.167170</td>\n",
       "      <td>0.125895</td>\n",
       "      <td>-0.008983</td>\n",
       "      <td>0.014724</td>\n",
       "      <td>2.69</td>\n",
       "      <td>0</td>\n",
       "    </tr>\n",
       "    <tr>\n",
       "      <th>2</th>\n",
       "      <td>1.0</td>\n",
       "      <td>-1.358354</td>\n",
       "      <td>-1.340163</td>\n",
       "      <td>1.773209</td>\n",
       "      <td>0.379780</td>\n",
       "      <td>-0.503198</td>\n",
       "      <td>1.800499</td>\n",
       "      <td>0.791461</td>\n",
       "      <td>0.247676</td>\n",
       "      <td>-1.514654</td>\n",
       "      <td>...</td>\n",
       "      <td>0.247998</td>\n",
       "      <td>0.771679</td>\n",
       "      <td>0.909412</td>\n",
       "      <td>-0.689281</td>\n",
       "      <td>-0.327642</td>\n",
       "      <td>-0.139097</td>\n",
       "      <td>-0.055353</td>\n",
       "      <td>-0.059752</td>\n",
       "      <td>378.66</td>\n",
       "      <td>0</td>\n",
       "    </tr>\n",
       "    <tr>\n",
       "      <th>3</th>\n",
       "      <td>1.0</td>\n",
       "      <td>-0.966272</td>\n",
       "      <td>-0.185226</td>\n",
       "      <td>1.792993</td>\n",
       "      <td>-0.863291</td>\n",
       "      <td>-0.010309</td>\n",
       "      <td>1.247203</td>\n",
       "      <td>0.237609</td>\n",
       "      <td>0.377436</td>\n",
       "      <td>-1.387024</td>\n",
       "      <td>...</td>\n",
       "      <td>-0.108300</td>\n",
       "      <td>0.005274</td>\n",
       "      <td>-0.190321</td>\n",
       "      <td>-1.175575</td>\n",
       "      <td>0.647376</td>\n",
       "      <td>-0.221929</td>\n",
       "      <td>0.062723</td>\n",
       "      <td>0.061458</td>\n",
       "      <td>123.50</td>\n",
       "      <td>0</td>\n",
       "    </tr>\n",
       "    <tr>\n",
       "      <th>4</th>\n",
       "      <td>2.0</td>\n",
       "      <td>-1.158233</td>\n",
       "      <td>0.877737</td>\n",
       "      <td>1.548718</td>\n",
       "      <td>0.403034</td>\n",
       "      <td>-0.407193</td>\n",
       "      <td>0.095921</td>\n",
       "      <td>0.592941</td>\n",
       "      <td>-0.270533</td>\n",
       "      <td>0.817739</td>\n",
       "      <td>...</td>\n",
       "      <td>-0.009431</td>\n",
       "      <td>0.798278</td>\n",
       "      <td>-0.137458</td>\n",
       "      <td>0.141267</td>\n",
       "      <td>-0.206010</td>\n",
       "      <td>0.502292</td>\n",
       "      <td>0.219422</td>\n",
       "      <td>0.215153</td>\n",
       "      <td>69.99</td>\n",
       "      <td>0</td>\n",
       "    </tr>\n",
       "  </tbody>\n",
       "</table>\n",
       "<p>5 rows × 31 columns</p>\n",
       "</div>"
      ],
      "text/plain": [
       "   Time        V1        V2        V3        V4        V5        V6        V7  \\\n",
       "0   0.0 -1.359807 -0.072781  2.536347  1.378155 -0.338321  0.462388  0.239599   \n",
       "1   0.0  1.191857  0.266151  0.166480  0.448154  0.060018 -0.082361 -0.078803   \n",
       "2   1.0 -1.358354 -1.340163  1.773209  0.379780 -0.503198  1.800499  0.791461   \n",
       "3   1.0 -0.966272 -0.185226  1.792993 -0.863291 -0.010309  1.247203  0.237609   \n",
       "4   2.0 -1.158233  0.877737  1.548718  0.403034 -0.407193  0.095921  0.592941   \n",
       "\n",
       "         V8        V9  ...       V21       V22       V23       V24       V25  \\\n",
       "0  0.098698  0.363787  ... -0.018307  0.277838 -0.110474  0.066928  0.128539   \n",
       "1  0.085102 -0.255425  ... -0.225775 -0.638672  0.101288 -0.339846  0.167170   \n",
       "2  0.247676 -1.514654  ...  0.247998  0.771679  0.909412 -0.689281 -0.327642   \n",
       "3  0.377436 -1.387024  ... -0.108300  0.005274 -0.190321 -1.175575  0.647376   \n",
       "4 -0.270533  0.817739  ... -0.009431  0.798278 -0.137458  0.141267 -0.206010   \n",
       "\n",
       "        V26       V27       V28  Amount  Class  \n",
       "0 -0.189115  0.133558 -0.021053  149.62      0  \n",
       "1  0.125895 -0.008983  0.014724    2.69      0  \n",
       "2 -0.139097 -0.055353 -0.059752  378.66      0  \n",
       "3 -0.221929  0.062723  0.061458  123.50      0  \n",
       "4  0.502292  0.219422  0.215153   69.99      0  \n",
       "\n",
       "[5 rows x 31 columns]"
      ]
     },
     "execution_count": 3,
     "metadata": {},
     "output_type": "execute_result"
    }
   ],
   "source": [
    "#### reading the data\n",
    "data = pd.read_csv(\"../input/creditcardfraud/creditcard.csv\")\n",
    "data.head()"
   ]
  },
  {
   "cell_type": "code",
   "execution_count": 4,
   "metadata": {
    "execution": {
     "iopub.execute_input": "2023-04-03T20:13:11.323773Z",
     "iopub.status.busy": "2023-04-03T20:13:11.323016Z",
     "iopub.status.idle": "2023-04-03T20:13:11.326624Z",
     "shell.execute_reply": "2023-04-03T20:13:11.327019Z",
     "shell.execute_reply.started": "2023-04-03T20:08:11.619256Z"
    },
    "papermill": {
     "duration": 0.030158,
     "end_time": "2023-04-03T20:13:11.327148",
     "exception": false,
     "start_time": "2023-04-03T20:13:11.296990",
     "status": "completed"
    },
    "tags": []
   },
   "outputs": [
    {
     "data": {
      "text/plain": [
       "(284807, 31)"
      ]
     },
     "execution_count": 4,
     "metadata": {},
     "output_type": "execute_result"
    }
   ],
   "source": [
    "data.shape"
   ]
  },
  {
   "cell_type": "code",
   "execution_count": 5,
   "metadata": {
    "execution": {
     "iopub.execute_input": "2023-04-03T20:13:11.375095Z",
     "iopub.status.busy": "2023-04-03T20:13:11.374486Z",
     "iopub.status.idle": "2023-04-03T20:13:11.378615Z",
     "shell.execute_reply": "2023-04-03T20:13:11.378149Z",
     "shell.execute_reply.started": "2023-04-03T20:08:11.630663Z"
    },
    "papermill": {
     "duration": 0.029793,
     "end_time": "2023-04-03T20:13:11.378713",
     "exception": false,
     "start_time": "2023-04-03T20:13:11.348920",
     "status": "completed"
    },
    "tags": []
   },
   "outputs": [
    {
     "data": {
      "text/plain": [
       "Index(['Time', 'V1', 'V2', 'V3', 'V4', 'V5', 'V6', 'V7', 'V8', 'V9', 'V10',\n",
       "       'V11', 'V12', 'V13', 'V14', 'V15', 'V16', 'V17', 'V18', 'V19', 'V20',\n",
       "       'V21', 'V22', 'V23', 'V24', 'V25', 'V26', 'V27', 'V28', 'Amount',\n",
       "       'Class'],\n",
       "      dtype='object')"
      ]
     },
     "execution_count": 5,
     "metadata": {},
     "output_type": "execute_result"
    }
   ],
   "source": [
    "data.columns"
   ]
  },
  {
   "cell_type": "code",
   "execution_count": 6,
   "metadata": {
    "execution": {
     "iopub.execute_input": "2023-04-03T20:13:11.441418Z",
     "iopub.status.busy": "2023-04-03T20:13:11.440417Z",
     "iopub.status.idle": "2023-04-03T20:13:11.445349Z",
     "shell.execute_reply": "2023-04-03T20:13:11.444855Z",
     "shell.execute_reply.started": "2023-04-03T20:08:11.654256Z"
    },
    "papermill": {
     "duration": 0.045731,
     "end_time": "2023-04-03T20:13:11.445447",
     "exception": false,
     "start_time": "2023-04-03T20:13:11.399716",
     "status": "completed"
    },
    "tags": []
   },
   "outputs": [
    {
     "data": {
      "text/html": [
       "<div>\n",
       "<style scoped>\n",
       "    .dataframe tbody tr th:only-of-type {\n",
       "        vertical-align: middle;\n",
       "    }\n",
       "\n",
       "    .dataframe tbody tr th {\n",
       "        vertical-align: top;\n",
       "    }\n",
       "\n",
       "    .dataframe thead th {\n",
       "        text-align: right;\n",
       "    }\n",
       "</style>\n",
       "<table border=\"1\" class=\"dataframe\">\n",
       "  <thead>\n",
       "    <tr style=\"text-align: right;\">\n",
       "      <th></th>\n",
       "      <th>Time</th>\n",
       "      <th>V1</th>\n",
       "      <th>V2</th>\n",
       "      <th>V3</th>\n",
       "      <th>V4</th>\n",
       "      <th>V5</th>\n",
       "      <th>V6</th>\n",
       "      <th>V7</th>\n",
       "      <th>V8</th>\n",
       "      <th>V9</th>\n",
       "      <th>...</th>\n",
       "      <th>V21</th>\n",
       "      <th>V22</th>\n",
       "      <th>V23</th>\n",
       "      <th>V24</th>\n",
       "      <th>V25</th>\n",
       "      <th>V26</th>\n",
       "      <th>V27</th>\n",
       "      <th>V28</th>\n",
       "      <th>Amount</th>\n",
       "      <th>Class</th>\n",
       "    </tr>\n",
       "  </thead>\n",
       "  <tbody>\n",
       "    <tr>\n",
       "      <th>284802</th>\n",
       "      <td>172786.0</td>\n",
       "      <td>-11.881118</td>\n",
       "      <td>10.071785</td>\n",
       "      <td>-9.834783</td>\n",
       "      <td>-2.066656</td>\n",
       "      <td>-5.364473</td>\n",
       "      <td>-2.606837</td>\n",
       "      <td>-4.918215</td>\n",
       "      <td>7.305334</td>\n",
       "      <td>1.914428</td>\n",
       "      <td>...</td>\n",
       "      <td>0.213454</td>\n",
       "      <td>0.111864</td>\n",
       "      <td>1.014480</td>\n",
       "      <td>-0.509348</td>\n",
       "      <td>1.436807</td>\n",
       "      <td>0.250034</td>\n",
       "      <td>0.943651</td>\n",
       "      <td>0.823731</td>\n",
       "      <td>0.77</td>\n",
       "      <td>0</td>\n",
       "    </tr>\n",
       "    <tr>\n",
       "      <th>284803</th>\n",
       "      <td>172787.0</td>\n",
       "      <td>-0.732789</td>\n",
       "      <td>-0.055080</td>\n",
       "      <td>2.035030</td>\n",
       "      <td>-0.738589</td>\n",
       "      <td>0.868229</td>\n",
       "      <td>1.058415</td>\n",
       "      <td>0.024330</td>\n",
       "      <td>0.294869</td>\n",
       "      <td>0.584800</td>\n",
       "      <td>...</td>\n",
       "      <td>0.214205</td>\n",
       "      <td>0.924384</td>\n",
       "      <td>0.012463</td>\n",
       "      <td>-1.016226</td>\n",
       "      <td>-0.606624</td>\n",
       "      <td>-0.395255</td>\n",
       "      <td>0.068472</td>\n",
       "      <td>-0.053527</td>\n",
       "      <td>24.79</td>\n",
       "      <td>0</td>\n",
       "    </tr>\n",
       "    <tr>\n",
       "      <th>284804</th>\n",
       "      <td>172788.0</td>\n",
       "      <td>1.919565</td>\n",
       "      <td>-0.301254</td>\n",
       "      <td>-3.249640</td>\n",
       "      <td>-0.557828</td>\n",
       "      <td>2.630515</td>\n",
       "      <td>3.031260</td>\n",
       "      <td>-0.296827</td>\n",
       "      <td>0.708417</td>\n",
       "      <td>0.432454</td>\n",
       "      <td>...</td>\n",
       "      <td>0.232045</td>\n",
       "      <td>0.578229</td>\n",
       "      <td>-0.037501</td>\n",
       "      <td>0.640134</td>\n",
       "      <td>0.265745</td>\n",
       "      <td>-0.087371</td>\n",
       "      <td>0.004455</td>\n",
       "      <td>-0.026561</td>\n",
       "      <td>67.88</td>\n",
       "      <td>0</td>\n",
       "    </tr>\n",
       "    <tr>\n",
       "      <th>284805</th>\n",
       "      <td>172788.0</td>\n",
       "      <td>-0.240440</td>\n",
       "      <td>0.530483</td>\n",
       "      <td>0.702510</td>\n",
       "      <td>0.689799</td>\n",
       "      <td>-0.377961</td>\n",
       "      <td>0.623708</td>\n",
       "      <td>-0.686180</td>\n",
       "      <td>0.679145</td>\n",
       "      <td>0.392087</td>\n",
       "      <td>...</td>\n",
       "      <td>0.265245</td>\n",
       "      <td>0.800049</td>\n",
       "      <td>-0.163298</td>\n",
       "      <td>0.123205</td>\n",
       "      <td>-0.569159</td>\n",
       "      <td>0.546668</td>\n",
       "      <td>0.108821</td>\n",
       "      <td>0.104533</td>\n",
       "      <td>10.00</td>\n",
       "      <td>0</td>\n",
       "    </tr>\n",
       "    <tr>\n",
       "      <th>284806</th>\n",
       "      <td>172792.0</td>\n",
       "      <td>-0.533413</td>\n",
       "      <td>-0.189733</td>\n",
       "      <td>0.703337</td>\n",
       "      <td>-0.506271</td>\n",
       "      <td>-0.012546</td>\n",
       "      <td>-0.649617</td>\n",
       "      <td>1.577006</td>\n",
       "      <td>-0.414650</td>\n",
       "      <td>0.486180</td>\n",
       "      <td>...</td>\n",
       "      <td>0.261057</td>\n",
       "      <td>0.643078</td>\n",
       "      <td>0.376777</td>\n",
       "      <td>0.008797</td>\n",
       "      <td>-0.473649</td>\n",
       "      <td>-0.818267</td>\n",
       "      <td>-0.002415</td>\n",
       "      <td>0.013649</td>\n",
       "      <td>217.00</td>\n",
       "      <td>0</td>\n",
       "    </tr>\n",
       "  </tbody>\n",
       "</table>\n",
       "<p>5 rows × 31 columns</p>\n",
       "</div>"
      ],
      "text/plain": [
       "            Time         V1         V2        V3        V4        V5  \\\n",
       "284802  172786.0 -11.881118  10.071785 -9.834783 -2.066656 -5.364473   \n",
       "284803  172787.0  -0.732789  -0.055080  2.035030 -0.738589  0.868229   \n",
       "284804  172788.0   1.919565  -0.301254 -3.249640 -0.557828  2.630515   \n",
       "284805  172788.0  -0.240440   0.530483  0.702510  0.689799 -0.377961   \n",
       "284806  172792.0  -0.533413  -0.189733  0.703337 -0.506271 -0.012546   \n",
       "\n",
       "              V6        V7        V8        V9  ...       V21       V22  \\\n",
       "284802 -2.606837 -4.918215  7.305334  1.914428  ...  0.213454  0.111864   \n",
       "284803  1.058415  0.024330  0.294869  0.584800  ...  0.214205  0.924384   \n",
       "284804  3.031260 -0.296827  0.708417  0.432454  ...  0.232045  0.578229   \n",
       "284805  0.623708 -0.686180  0.679145  0.392087  ...  0.265245  0.800049   \n",
       "284806 -0.649617  1.577006 -0.414650  0.486180  ...  0.261057  0.643078   \n",
       "\n",
       "             V23       V24       V25       V26       V27       V28  Amount  \\\n",
       "284802  1.014480 -0.509348  1.436807  0.250034  0.943651  0.823731    0.77   \n",
       "284803  0.012463 -1.016226 -0.606624 -0.395255  0.068472 -0.053527   24.79   \n",
       "284804 -0.037501  0.640134  0.265745 -0.087371  0.004455 -0.026561   67.88   \n",
       "284805 -0.163298  0.123205 -0.569159  0.546668  0.108821  0.104533   10.00   \n",
       "284806  0.376777  0.008797 -0.473649 -0.818267 -0.002415  0.013649  217.00   \n",
       "\n",
       "        Class  \n",
       "284802      0  \n",
       "284803      0  \n",
       "284804      0  \n",
       "284805      0  \n",
       "284806      0  \n",
       "\n",
       "[5 rows x 31 columns]"
      ]
     },
     "execution_count": 6,
     "metadata": {},
     "output_type": "execute_result"
    }
   ],
   "source": [
    "data.tail()"
   ]
  },
  {
   "cell_type": "code",
   "execution_count": 7,
   "metadata": {
    "execution": {
     "iopub.execute_input": "2023-04-03T20:13:11.499307Z",
     "iopub.status.busy": "2023-04-03T20:13:11.498431Z",
     "iopub.status.idle": "2023-04-03T20:13:11.503237Z",
     "shell.execute_reply": "2023-04-03T20:13:11.503667Z",
     "shell.execute_reply.started": "2023-04-03T20:08:11.685533Z"
    },
    "papermill": {
     "duration": 0.035776,
     "end_time": "2023-04-03T20:13:11.503797",
     "exception": false,
     "start_time": "2023-04-03T20:13:11.468021",
     "status": "completed"
    },
    "tags": []
   },
   "outputs": [
    {
     "data": {
      "text/plain": [
       "30"
      ]
     },
     "execution_count": 7,
     "metadata": {},
     "output_type": "execute_result"
    }
   ],
   "source": [
    "numeric_cols = ['Time', 'V1', 'V2', 'V3', 'V4', 'V5', 'V6', 'V7', 'V8', 'V9', 'V10',\n",
    "                'V11', 'V12', 'V13', 'V14', 'V15', 'V16', 'V17', 'V18', 'V19', 'V20',\n",
    "                'V21', 'V22', 'V23', 'V24', 'V25', 'V26', 'V27', 'V28', 'Amount']\n",
    "\n",
    "len(numeric_cols)"
   ]
  },
  {
   "cell_type": "code",
   "execution_count": 8,
   "metadata": {
    "execution": {
     "iopub.execute_input": "2023-04-03T20:13:11.557407Z",
     "iopub.status.busy": "2023-04-03T20:13:11.556706Z",
     "iopub.status.idle": "2023-04-03T20:13:11.560718Z",
     "shell.execute_reply": "2023-04-03T20:13:11.560184Z",
     "shell.execute_reply.started": "2023-04-03T20:08:11.699296Z"
    },
    "papermill": {
     "duration": 0.03083,
     "end_time": "2023-04-03T20:13:11.560809",
     "exception": false,
     "start_time": "2023-04-03T20:13:11.529979",
     "status": "completed"
    },
    "tags": []
   },
   "outputs": [
    {
     "data": {
      "text/plain": [
       "28480"
      ]
     },
     "execution_count": 8,
     "metadata": {},
     "output_type": "execute_result"
    }
   ],
   "source": [
    "int(len(data)*0.1)"
   ]
  },
  {
   "cell_type": "code",
   "execution_count": 9,
   "metadata": {
    "execution": {
     "iopub.execute_input": "2023-04-03T20:13:11.616208Z",
     "iopub.status.busy": "2023-04-03T20:13:11.609573Z",
     "iopub.status.idle": "2023-04-03T20:13:11.631275Z",
     "shell.execute_reply": "2023-04-03T20:13:11.630651Z",
     "shell.execute_reply.started": "2023-04-03T20:08:11.712708Z"
    },
    "papermill": {
     "duration": 0.048411,
     "end_time": "2023-04-03T20:13:11.631414",
     "exception": false,
     "start_time": "2023-04-03T20:13:11.583003",
     "status": "completed"
    },
    "tags": []
   },
   "outputs": [],
   "source": [
    "small_sub = data.sample(int(len(data)*0.1))"
   ]
  },
  {
   "cell_type": "code",
   "execution_count": 10,
   "metadata": {
    "execution": {
     "iopub.execute_input": "2023-04-03T20:13:11.681426Z",
     "iopub.status.busy": "2023-04-03T20:13:11.680660Z",
     "iopub.status.idle": "2023-04-03T20:13:11.684793Z",
     "shell.execute_reply": "2023-04-03T20:13:11.684315Z",
     "shell.execute_reply.started": "2023-04-03T20:08:11.754400Z"
    },
    "papermill": {
     "duration": 0.030513,
     "end_time": "2023-04-03T20:13:11.684897",
     "exception": false,
     "start_time": "2023-04-03T20:13:11.654384",
     "status": "completed"
    },
    "tags": []
   },
   "outputs": [
    {
     "data": {
      "text/plain": [
       "(28480, 31)"
      ]
     },
     "execution_count": 10,
     "metadata": {},
     "output_type": "execute_result"
    }
   ],
   "source": [
    "small_sub.shape"
   ]
  },
  {
   "cell_type": "code",
   "execution_count": 11,
   "metadata": {
    "execution": {
     "iopub.execute_input": "2023-04-03T20:13:11.736791Z",
     "iopub.status.busy": "2023-04-03T20:13:11.736137Z",
     "iopub.status.idle": "2023-04-03T20:13:13.052657Z",
     "shell.execute_reply": "2023-04-03T20:13:13.052211Z",
     "shell.execute_reply.started": "2023-04-03T20:11:46.455853Z"
    },
    "papermill": {
     "duration": 1.344237,
     "end_time": "2023-04-03T20:13:13.052753",
     "exception": false,
     "start_time": "2023-04-03T20:13:11.708516",
     "status": "completed"
    },
    "tags": []
   },
   "outputs": [
    {
     "name": "stdout",
     "output_type": "stream",
     "text": [
      "Time\n",
      "Ks_2sampResult(statistic=0.0029919190446847654, pvalue=0.9746026748634409)\n",
      "------------------------------------------------------------\n",
      "V1\n",
      "Ks_2sampResult(statistic=0.005804036775663102, pvalue=0.34764514691289894)\n",
      "------------------------------------------------------------\n",
      "V2\n",
      "Ks_2sampResult(statistic=0.007660723837112138, pvalue=0.09576357124258889)\n",
      "------------------------------------------------------------\n",
      "V3\n",
      "Ks_2sampResult(statistic=0.0052900466294482085, pvalue=0.46349200050775907)\n",
      "------------------------------------------------------------\n",
      "V4\n",
      "Ks_2sampResult(statistic=0.004426568383209872, pvalue=0.690733374188683)\n",
      "------------------------------------------------------------\n",
      "V5\n",
      "Ks_2sampResult(statistic=0.0062170396990305354, pvalue=0.26961037448521724)\n",
      "------------------------------------------------------------\n",
      "V6\n",
      "Ks_2sampResult(statistic=0.0037645869775483343, pvalue=0.8565823667708362)\n",
      "------------------------------------------------------------\n",
      "V7\n",
      "Ks_2sampResult(statistic=0.004830155187291629, pvalue=0.581635594945924)\n",
      "------------------------------------------------------------\n",
      "V8\n",
      "Ks_2sampResult(statistic=0.00350185065695785, pvalue=0.9086535134485838)\n",
      "------------------------------------------------------------\n",
      "V9\n",
      "Ks_2sampResult(statistic=0.00424924250398151, pvalue=0.7381192267673131)\n",
      "------------------------------------------------------------\n",
      "V10\n",
      "Ks_2sampResult(statistic=0.006070709331724489, pvalue=0.2956830251680372)\n",
      "------------------------------------------------------------\n",
      "V11\n",
      "Ks_2sampResult(statistic=0.003940136570110997, pvalue=0.8163352958615939)\n",
      "------------------------------------------------------------\n",
      "V12\n",
      "Ks_2sampResult(statistic=0.003011238011445816, pvalue=0.9729877618396008)\n",
      "------------------------------------------------------------\n",
      "V13\n",
      "Ks_2sampResult(statistic=0.005437818565326102, pvalue=0.4281843618374615)\n",
      "------------------------------------------------------------\n",
      "V14\n",
      "Ks_2sampResult(statistic=0.002120428645884076, pvalue=0.9998165395006402)\n",
      "------------------------------------------------------------\n",
      "V15\n",
      "Ks_2sampResult(statistic=0.004256234475244702, pvalue=0.7362745574104016)\n",
      "------------------------------------------------------------\n",
      "V16\n",
      "Ks_2sampResult(statistic=0.003327702811992961, pvalue=0.9366717502614408)\n",
      "------------------------------------------------------------\n",
      "V17\n",
      "Ks_2sampResult(statistic=0.003876154374283014, pvalue=0.8314352436366607)\n",
      "------------------------------------------------------------\n",
      "V18\n",
      "Ks_2sampResult(statistic=0.00401433327726014, pvalue=0.7982827985049025)\n",
      "------------------------------------------------------------\n",
      "V19\n",
      "Ks_2sampResult(statistic=0.0032678046700499452, pvalue=0.9450016536498634)\n",
      "------------------------------------------------------------\n",
      "V20\n",
      "Ks_2sampResult(statistic=0.0038432685373019915, pvalue=0.8390114243930786)\n",
      "------------------------------------------------------------\n",
      "V21\n",
      "Ks_2sampResult(statistic=0.006447583412784563, pvalue=0.23198884042045653)\n",
      "------------------------------------------------------------\n",
      "V22\n",
      "Ks_2sampResult(statistic=0.00556976320510838, pvalue=0.39798176597445245)\n",
      "------------------------------------------------------------\n",
      "V23\n",
      "Ks_2sampResult(statistic=0.002755544455435077, pvalue=0.9893609228369565)\n",
      "------------------------------------------------------------\n",
      "V24\n",
      "Ks_2sampResult(statistic=0.004860941731564067, pvalue=0.5734250292594469)\n",
      "------------------------------------------------------------\n",
      "V25\n",
      "Ks_2sampResult(statistic=0.003490687469491882, pvalue=0.9106143392908393)\n",
      "------------------------------------------------------------\n",
      "V26\n",
      "Ks_2sampResult(statistic=0.003882198902248918, pvalue=0.8300286424998515)\n",
      "------------------------------------------------------------\n",
      "V27\n",
      "Ks_2sampResult(statistic=0.00607859351471729, pvalue=0.29423427740597563)\n",
      "------------------------------------------------------------\n",
      "V28\n",
      "Ks_2sampResult(statistic=0.004816755984330512, pvalue=0.5852184754114939)\n",
      "------------------------------------------------------------\n",
      "Amount\n",
      "Ks_2sampResult(statistic=0.005277414627480992, pvalue=0.4665789145590709)\n",
      "------------------------------------------------------------\n",
      "Class\n",
      "Ks_2sampResult(statistic=0.00020369414466081537, pvalue=1.0)\n",
      "------------------------------------------------------------\n"
     ]
    }
   ],
   "source": [
    "for col in data.columns:\n",
    "    print(col)\n",
    "    print(ks_2samp(small_sub[col], data[col]))\n",
    "    print(\"--\"*30)"
   ]
  },
  {
   "cell_type": "code",
   "execution_count": 12,
   "metadata": {
    "execution": {
     "iopub.execute_input": "2023-04-03T20:13:13.115538Z",
     "iopub.status.busy": "2023-04-03T20:13:13.115038Z",
     "iopub.status.idle": "2023-04-03T20:13:13.118407Z",
     "shell.execute_reply": "2023-04-03T20:13:13.117800Z",
     "shell.execute_reply.started": "2023-04-03T20:08:13.393676Z"
    },
    "papermill": {
     "duration": 0.03173,
     "end_time": "2023-04-03T20:13:13.118562",
     "exception": false,
     "start_time": "2023-04-03T20:13:13.086832",
     "status": "completed"
    },
    "tags": []
   },
   "outputs": [],
   "source": [
    "#### This shows that the small_sub is representative of data ####"
   ]
  },
  {
   "cell_type": "code",
   "execution_count": 13,
   "metadata": {
    "execution": {
     "iopub.execute_input": "2023-04-03T20:13:13.176867Z",
     "iopub.status.busy": "2023-04-03T20:13:13.175979Z",
     "iopub.status.idle": "2023-04-03T20:13:13.192095Z",
     "shell.execute_reply": "2023-04-03T20:13:13.192640Z",
     "shell.execute_reply.started": "2023-04-03T20:08:13.401170Z"
    },
    "papermill": {
     "duration": 0.049218,
     "end_time": "2023-04-03T20:13:13.192773",
     "exception": false,
     "start_time": "2023-04-03T20:13:13.143555",
     "status": "completed"
    },
    "tags": []
   },
   "outputs": [
    {
     "data": {
      "text/plain": [
       "Time      0\n",
       "V1        0\n",
       "V2        0\n",
       "V3        0\n",
       "V4        0\n",
       "V5        0\n",
       "V6        0\n",
       "V7        0\n",
       "V8        0\n",
       "V9        0\n",
       "V10       0\n",
       "V11       0\n",
       "V12       0\n",
       "V13       0\n",
       "V14       0\n",
       "V15       0\n",
       "V16       0\n",
       "V17       0\n",
       "V18       0\n",
       "V19       0\n",
       "V20       0\n",
       "V21       0\n",
       "V22       0\n",
       "V23       0\n",
       "V24       0\n",
       "V25       0\n",
       "V26       0\n",
       "V27       0\n",
       "V28       0\n",
       "Amount    0\n",
       "Class     0\n",
       "dtype: int64"
      ]
     },
     "execution_count": 13,
     "metadata": {},
     "output_type": "execute_result"
    }
   ],
   "source": [
    "data.isnull().sum()"
   ]
  },
  {
   "cell_type": "code",
   "execution_count": 14,
   "metadata": {
    "execution": {
     "iopub.execute_input": "2023-04-03T20:13:13.246379Z",
     "iopub.status.busy": "2023-04-03T20:13:13.245833Z",
     "iopub.status.idle": "2023-04-03T20:13:13.249046Z",
     "shell.execute_reply": "2023-04-03T20:13:13.249569Z",
     "shell.execute_reply.started": "2023-04-03T20:08:13.449360Z"
    },
    "papermill": {
     "duration": 0.031055,
     "end_time": "2023-04-03T20:13:13.249720",
     "exception": false,
     "start_time": "2023-04-03T20:13:13.218665",
     "status": "completed"
    },
    "tags": []
   },
   "outputs": [],
   "source": [
    "## no missing values ##"
   ]
  },
  {
   "cell_type": "code",
   "execution_count": 15,
   "metadata": {
    "execution": {
     "iopub.execute_input": "2023-04-03T20:13:13.301866Z",
     "iopub.status.busy": "2023-04-03T20:13:13.301371Z",
     "iopub.status.idle": "2023-04-03T20:13:13.305557Z",
     "shell.execute_reply": "2023-04-03T20:13:13.306000Z",
     "shell.execute_reply.started": "2023-04-03T20:08:13.457297Z"
    },
    "papermill": {
     "duration": 0.031693,
     "end_time": "2023-04-03T20:13:13.306121",
     "exception": false,
     "start_time": "2023-04-03T20:13:13.274428",
     "status": "completed"
    },
    "tags": []
   },
   "outputs": [],
   "source": [
    "sub = small_sub.copy()"
   ]
  },
  {
   "cell_type": "code",
   "execution_count": 16,
   "metadata": {
    "execution": {
     "iopub.execute_input": "2023-04-03T20:13:13.360821Z",
     "iopub.status.busy": "2023-04-03T20:13:13.360176Z",
     "iopub.status.idle": "2023-04-03T20:13:13.367702Z",
     "shell.execute_reply": "2023-04-03T20:13:13.367133Z",
     "shell.execute_reply.started": "2023-04-03T20:08:13.473509Z"
    },
    "papermill": {
     "duration": 0.036085,
     "end_time": "2023-04-03T20:13:13.367839",
     "exception": false,
     "start_time": "2023-04-03T20:13:13.331754",
     "status": "completed"
    },
    "tags": []
   },
   "outputs": [
    {
     "data": {
      "text/plain": [
       "(28480, 30)"
      ]
     },
     "execution_count": 16,
     "metadata": {},
     "output_type": "execute_result"
    }
   ],
   "source": [
    "sub = sub[numeric_cols]\n",
    "sub.shape"
   ]
  },
  {
   "cell_type": "code",
   "execution_count": 17,
   "metadata": {
    "execution": {
     "iopub.execute_input": "2023-04-03T20:13:13.425253Z",
     "iopub.status.busy": "2023-04-03T20:13:13.424657Z",
     "iopub.status.idle": "2023-04-03T20:13:13.447840Z",
     "shell.execute_reply": "2023-04-03T20:13:13.448202Z",
     "shell.execute_reply.started": "2023-04-03T20:08:13.489587Z"
    },
    "papermill": {
     "duration": 0.055104,
     "end_time": "2023-04-03T20:13:13.448319",
     "exception": false,
     "start_time": "2023-04-03T20:13:13.393215",
     "status": "completed"
    },
    "tags": []
   },
   "outputs": [
    {
     "data": {
      "text/html": [
       "<div>\n",
       "<style scoped>\n",
       "    .dataframe tbody tr th:only-of-type {\n",
       "        vertical-align: middle;\n",
       "    }\n",
       "\n",
       "    .dataframe tbody tr th {\n",
       "        vertical-align: top;\n",
       "    }\n",
       "\n",
       "    .dataframe thead th {\n",
       "        text-align: right;\n",
       "    }\n",
       "</style>\n",
       "<table border=\"1\" class=\"dataframe\">\n",
       "  <thead>\n",
       "    <tr style=\"text-align: right;\">\n",
       "      <th></th>\n",
       "      <th>0</th>\n",
       "      <th>1</th>\n",
       "      <th>2</th>\n",
       "      <th>3</th>\n",
       "      <th>4</th>\n",
       "      <th>5</th>\n",
       "      <th>6</th>\n",
       "      <th>7</th>\n",
       "      <th>8</th>\n",
       "      <th>9</th>\n",
       "      <th>...</th>\n",
       "      <th>20</th>\n",
       "      <th>21</th>\n",
       "      <th>22</th>\n",
       "      <th>23</th>\n",
       "      <th>24</th>\n",
       "      <th>25</th>\n",
       "      <th>26</th>\n",
       "      <th>27</th>\n",
       "      <th>28</th>\n",
       "      <th>29</th>\n",
       "    </tr>\n",
       "  </thead>\n",
       "  <tbody>\n",
       "    <tr>\n",
       "      <th>0</th>\n",
       "      <td>0.728171</td>\n",
       "      <td>0.930566</td>\n",
       "      <td>0.747766</td>\n",
       "      <td>0.924522</td>\n",
       "      <td>0.223081</td>\n",
       "      <td>0.807006</td>\n",
       "      <td>0.213344</td>\n",
       "      <td>0.169347</td>\n",
       "      <td>0.606019</td>\n",
       "      <td>0.500243</td>\n",
       "      <td>...</td>\n",
       "      <td>0.779307</td>\n",
       "      <td>0.484459</td>\n",
       "      <td>0.567040</td>\n",
       "      <td>0.516664</td>\n",
       "      <td>0.375948</td>\n",
       "      <td>0.472359</td>\n",
       "      <td>0.343380</td>\n",
       "      <td>0.177604</td>\n",
       "      <td>0.501661</td>\n",
       "      <td>0.001557</td>\n",
       "    </tr>\n",
       "    <tr>\n",
       "      <th>1</th>\n",
       "      <td>0.909992</td>\n",
       "      <td>0.929907</td>\n",
       "      <td>0.745482</td>\n",
       "      <td>0.928186</td>\n",
       "      <td>0.220646</td>\n",
       "      <td>0.806374</td>\n",
       "      <td>0.206467</td>\n",
       "      <td>0.168310</td>\n",
       "      <td>0.607205</td>\n",
       "      <td>0.492704</td>\n",
       "      <td>...</td>\n",
       "      <td>0.775275</td>\n",
       "      <td>0.483001</td>\n",
       "      <td>0.538910</td>\n",
       "      <td>0.522483</td>\n",
       "      <td>0.448266</td>\n",
       "      <td>0.411112</td>\n",
       "      <td>0.367671</td>\n",
       "      <td>0.176777</td>\n",
       "      <td>0.502125</td>\n",
       "      <td>0.000077</td>\n",
       "    </tr>\n",
       "    <tr>\n",
       "      <th>2</th>\n",
       "      <td>0.882419</td>\n",
       "      <td>0.898292</td>\n",
       "      <td>0.684396</td>\n",
       "      <td>0.931694</td>\n",
       "      <td>0.285225</td>\n",
       "      <td>0.814791</td>\n",
       "      <td>0.195299</td>\n",
       "      <td>0.153363</td>\n",
       "      <td>0.616131</td>\n",
       "      <td>0.564045</td>\n",
       "      <td>...</td>\n",
       "      <td>0.782633</td>\n",
       "      <td>0.505014</td>\n",
       "      <td>0.677522</td>\n",
       "      <td>0.547530</td>\n",
       "      <td>0.468606</td>\n",
       "      <td>0.272268</td>\n",
       "      <td>0.141151</td>\n",
       "      <td>0.182245</td>\n",
       "      <td>0.510547</td>\n",
       "      <td>0.003737</td>\n",
       "    </tr>\n",
       "    <tr>\n",
       "      <th>3</th>\n",
       "      <td>0.294691</td>\n",
       "      <td>0.876737</td>\n",
       "      <td>0.744165</td>\n",
       "      <td>0.953059</td>\n",
       "      <td>0.304048</td>\n",
       "      <td>0.785137</td>\n",
       "      <td>0.236605</td>\n",
       "      <td>0.164838</td>\n",
       "      <td>0.603369</td>\n",
       "      <td>0.495152</td>\n",
       "      <td>...</td>\n",
       "      <td>0.762573</td>\n",
       "      <td>0.507480</td>\n",
       "      <td>0.646369</td>\n",
       "      <td>0.527024</td>\n",
       "      <td>0.347095</td>\n",
       "      <td>0.451855</td>\n",
       "      <td>0.307509</td>\n",
       "      <td>0.161457</td>\n",
       "      <td>0.475223</td>\n",
       "      <td>0.011989</td>\n",
       "    </tr>\n",
       "    <tr>\n",
       "      <th>4</th>\n",
       "      <td>0.115104</td>\n",
       "      <td>0.972107</td>\n",
       "      <td>0.718410</td>\n",
       "      <td>0.939569</td>\n",
       "      <td>0.242359</td>\n",
       "      <td>0.790376</td>\n",
       "      <td>0.208693</td>\n",
       "      <td>0.155711</td>\n",
       "      <td>0.607369</td>\n",
       "      <td>0.569574</td>\n",
       "      <td>...</td>\n",
       "      <td>0.774842</td>\n",
       "      <td>0.485990</td>\n",
       "      <td>0.592341</td>\n",
       "      <td>0.524934</td>\n",
       "      <td>0.427122</td>\n",
       "      <td>0.489012</td>\n",
       "      <td>0.289999</td>\n",
       "      <td>0.174699</td>\n",
       "      <td>0.496581</td>\n",
       "      <td>0.000195</td>\n",
       "    </tr>\n",
       "  </tbody>\n",
       "</table>\n",
       "<p>5 rows × 30 columns</p>\n",
       "</div>"
      ],
      "text/plain": [
       "         0         1         2         3         4         5         6   \\\n",
       "0  0.728171  0.930566  0.747766  0.924522  0.223081  0.807006  0.213344   \n",
       "1  0.909992  0.929907  0.745482  0.928186  0.220646  0.806374  0.206467   \n",
       "2  0.882419  0.898292  0.684396  0.931694  0.285225  0.814791  0.195299   \n",
       "3  0.294691  0.876737  0.744165  0.953059  0.304048  0.785137  0.236605   \n",
       "4  0.115104  0.972107  0.718410  0.939569  0.242359  0.790376  0.208693   \n",
       "\n",
       "         7         8         9   ...        20        21        22        23  \\\n",
       "0  0.169347  0.606019  0.500243  ...  0.779307  0.484459  0.567040  0.516664   \n",
       "1  0.168310  0.607205  0.492704  ...  0.775275  0.483001  0.538910  0.522483   \n",
       "2  0.153363  0.616131  0.564045  ...  0.782633  0.505014  0.677522  0.547530   \n",
       "3  0.164838  0.603369  0.495152  ...  0.762573  0.507480  0.646369  0.527024   \n",
       "4  0.155711  0.607369  0.569574  ...  0.774842  0.485990  0.592341  0.524934   \n",
       "\n",
       "         24        25        26        27        28        29  \n",
       "0  0.375948  0.472359  0.343380  0.177604  0.501661  0.001557  \n",
       "1  0.448266  0.411112  0.367671  0.176777  0.502125  0.000077  \n",
       "2  0.468606  0.272268  0.141151  0.182245  0.510547  0.003737  \n",
       "3  0.347095  0.451855  0.307509  0.161457  0.475223  0.011989  \n",
       "4  0.427122  0.489012  0.289999  0.174699  0.496581  0.000195  \n",
       "\n",
       "[5 rows x 30 columns]"
      ]
     },
     "execution_count": 17,
     "metadata": {},
     "output_type": "execute_result"
    }
   ],
   "source": [
    "df_num = MinMaxScaler().fit_transform(sub)\n",
    "pd.DataFrame(df_num).head()"
   ]
  },
  {
   "cell_type": "code",
   "execution_count": 18,
   "metadata": {
    "execution": {
     "iopub.execute_input": "2023-04-03T20:13:13.506856Z",
     "iopub.status.busy": "2023-04-03T20:13:13.506152Z",
     "iopub.status.idle": "2023-04-03T20:13:13.603081Z",
     "shell.execute_reply": "2023-04-03T20:13:13.602638Z",
     "shell.execute_reply.started": "2023-04-03T20:08:13.536068Z"
    },
    "papermill": {
     "duration": 0.12865,
     "end_time": "2023-04-03T20:13:13.603182",
     "exception": false,
     "start_time": "2023-04-03T20:13:13.474532",
     "status": "completed"
    },
    "tags": []
   },
   "outputs": [
    {
     "data": {
      "text/html": [
       "<div>\n",
       "<style scoped>\n",
       "    .dataframe tbody tr th:only-of-type {\n",
       "        vertical-align: middle;\n",
       "    }\n",
       "\n",
       "    .dataframe tbody tr th {\n",
       "        vertical-align: top;\n",
       "    }\n",
       "\n",
       "    .dataframe thead th {\n",
       "        text-align: right;\n",
       "    }\n",
       "</style>\n",
       "<table border=\"1\" class=\"dataframe\">\n",
       "  <thead>\n",
       "    <tr style=\"text-align: right;\">\n",
       "      <th></th>\n",
       "      <th>0</th>\n",
       "      <th>1</th>\n",
       "      <th>2</th>\n",
       "      <th>3</th>\n",
       "      <th>4</th>\n",
       "      <th>5</th>\n",
       "      <th>6</th>\n",
       "      <th>7</th>\n",
       "      <th>8</th>\n",
       "      <th>9</th>\n",
       "      <th>...</th>\n",
       "      <th>20</th>\n",
       "      <th>21</th>\n",
       "      <th>22</th>\n",
       "      <th>23</th>\n",
       "      <th>24</th>\n",
       "      <th>25</th>\n",
       "      <th>26</th>\n",
       "      <th>27</th>\n",
       "      <th>28</th>\n",
       "      <th>29</th>\n",
       "    </tr>\n",
       "  </thead>\n",
       "  <tbody>\n",
       "    <tr>\n",
       "      <th>count</th>\n",
       "      <td>28480.000000</td>\n",
       "      <td>28480.000000</td>\n",
       "      <td>28480.000000</td>\n",
       "      <td>28480.000000</td>\n",
       "      <td>28480.000000</td>\n",
       "      <td>28480.000000</td>\n",
       "      <td>28480.000000</td>\n",
       "      <td>28480.000000</td>\n",
       "      <td>28480.000000</td>\n",
       "      <td>28480.000000</td>\n",
       "      <td>...</td>\n",
       "      <td>28480.000000</td>\n",
       "      <td>28480.000000</td>\n",
       "      <td>28480.000000</td>\n",
       "      <td>28480.000000</td>\n",
       "      <td>28480.000000</td>\n",
       "      <td>28480.000000</td>\n",
       "      <td>28480.000000</td>\n",
       "      <td>28480.000000</td>\n",
       "      <td>28480.000000</td>\n",
       "      <td>28480.000000</td>\n",
       "    </tr>\n",
       "    <tr>\n",
       "      <th>mean</th>\n",
       "      <td>0.547613</td>\n",
       "      <td>0.938296</td>\n",
       "      <td>0.728597</td>\n",
       "      <td>0.925471</td>\n",
       "      <td>0.252441</td>\n",
       "      <td>0.798242</td>\n",
       "      <td>0.214404</td>\n",
       "      <td>0.161236</td>\n",
       "      <td>0.608907</td>\n",
       "      <td>0.510398</td>\n",
       "      <td>...</td>\n",
       "      <td>0.776460</td>\n",
       "      <td>0.489143</td>\n",
       "      <td>0.597154</td>\n",
       "      <td>0.523287</td>\n",
       "      <td>0.381960</td>\n",
       "      <td>0.451143</td>\n",
       "      <td>0.341835</td>\n",
       "      <td>0.174938</td>\n",
       "      <td>0.496493</td>\n",
       "      <td>0.003354</td>\n",
       "    </tr>\n",
       "    <tr>\n",
       "      <th>std</th>\n",
       "      <td>0.274623</td>\n",
       "      <td>0.049329</td>\n",
       "      <td>0.029943</td>\n",
       "      <td>0.029529</td>\n",
       "      <td>0.069037</td>\n",
       "      <td>0.010597</td>\n",
       "      <td>0.014848</td>\n",
       "      <td>0.009561</td>\n",
       "      <td>0.025096</td>\n",
       "      <td>0.064502</td>\n",
       "      <td>...</td>\n",
       "      <td>0.011912</td>\n",
       "      <td>0.016734</td>\n",
       "      <td>0.051087</td>\n",
       "      <td>0.015312</td>\n",
       "      <td>0.082195</td>\n",
       "      <td>0.051525</td>\n",
       "      <td>0.093185</td>\n",
       "      <td>0.011292</td>\n",
       "      <td>0.011341</td>\n",
       "      <td>0.010740</td>\n",
       "    </tr>\n",
       "    <tr>\n",
       "      <th>min</th>\n",
       "      <td>0.000000</td>\n",
       "      <td>0.000000</td>\n",
       "      <td>0.000000</td>\n",
       "      <td>0.000000</td>\n",
       "      <td>0.000000</td>\n",
       "      <td>0.000000</td>\n",
       "      <td>0.000000</td>\n",
       "      <td>0.000000</td>\n",
       "      <td>0.000000</td>\n",
       "      <td>0.000000</td>\n",
       "      <td>...</td>\n",
       "      <td>0.000000</td>\n",
       "      <td>0.000000</td>\n",
       "      <td>0.000000</td>\n",
       "      <td>0.000000</td>\n",
       "      <td>0.000000</td>\n",
       "      <td>0.000000</td>\n",
       "      <td>0.000000</td>\n",
       "      <td>0.000000</td>\n",
       "      <td>0.000000</td>\n",
       "      <td>0.000000</td>\n",
       "    </tr>\n",
       "    <tr>\n",
       "      <th>25%</th>\n",
       "      <td>0.312970</td>\n",
       "      <td>0.915725</td>\n",
       "      <td>0.717455</td>\n",
       "      <td>0.908733</td>\n",
       "      <td>0.211006</td>\n",
       "      <td>0.793374</td>\n",
       "      <td>0.206117</td>\n",
       "      <td>0.157362</td>\n",
       "      <td>0.604165</td>\n",
       "      <td>0.472665</td>\n",
       "      <td>...</td>\n",
       "      <td>0.773611</td>\n",
       "      <td>0.483952</td>\n",
       "      <td>0.559500</td>\n",
       "      <td>0.519201</td>\n",
       "      <td>0.334215</td>\n",
       "      <td>0.419730</td>\n",
       "      <td>0.279219</td>\n",
       "      <td>0.172918</td>\n",
       "      <td>0.494770</td>\n",
       "      <td>0.000210</td>\n",
       "    </tr>\n",
       "    <tr>\n",
       "      <th>50%</th>\n",
       "      <td>0.489541</td>\n",
       "      <td>0.938640</td>\n",
       "      <td>0.729857</td>\n",
       "      <td>0.929154</td>\n",
       "      <td>0.251270</td>\n",
       "      <td>0.797846</td>\n",
       "      <td>0.211399</td>\n",
       "      <td>0.161549</td>\n",
       "      <td>0.609315</td>\n",
       "      <td>0.507269</td>\n",
       "      <td>...</td>\n",
       "      <td>0.775758</td>\n",
       "      <td>0.488387</td>\n",
       "      <td>0.597839</td>\n",
       "      <td>0.522979</td>\n",
       "      <td>0.387833</td>\n",
       "      <td>0.452536</td>\n",
       "      <td>0.331575</td>\n",
       "      <td>0.174845</td>\n",
       "      <td>0.496850</td>\n",
       "      <td>0.000854</td>\n",
       "    </tr>\n",
       "    <tr>\n",
       "      <th>75%</th>\n",
       "      <td>0.804838</td>\n",
       "      <td>0.971381</td>\n",
       "      <td>0.743316</td>\n",
       "      <td>0.945071</td>\n",
       "      <td>0.288707</td>\n",
       "      <td>0.802548</td>\n",
       "      <td>0.218621</td>\n",
       "      <td>0.165269</td>\n",
       "      <td>0.616150</td>\n",
       "      <td>0.546015</td>\n",
       "      <td>...</td>\n",
       "      <td>0.778530</td>\n",
       "      <td>0.493259</td>\n",
       "      <td>0.634512</td>\n",
       "      <td>0.526977</td>\n",
       "      <td>0.441586</td>\n",
       "      <td>0.485819</td>\n",
       "      <td>0.388309</td>\n",
       "      <td>0.177244</td>\n",
       "      <td>0.499032</td>\n",
       "      <td>0.002958</td>\n",
       "    </tr>\n",
       "    <tr>\n",
       "      <th>max</th>\n",
       "      <td>1.000000</td>\n",
       "      <td>1.000000</td>\n",
       "      <td>1.000000</td>\n",
       "      <td>1.000000</td>\n",
       "      <td>1.000000</td>\n",
       "      <td>1.000000</td>\n",
       "      <td>1.000000</td>\n",
       "      <td>1.000000</td>\n",
       "      <td>1.000000</td>\n",
       "      <td>1.000000</td>\n",
       "      <td>...</td>\n",
       "      <td>1.000000</td>\n",
       "      <td>1.000000</td>\n",
       "      <td>1.000000</td>\n",
       "      <td>1.000000</td>\n",
       "      <td>1.000000</td>\n",
       "      <td>1.000000</td>\n",
       "      <td>1.000000</td>\n",
       "      <td>1.000000</td>\n",
       "      <td>1.000000</td>\n",
       "      <td>1.000000</td>\n",
       "    </tr>\n",
       "  </tbody>\n",
       "</table>\n",
       "<p>8 rows × 30 columns</p>\n",
       "</div>"
      ],
      "text/plain": [
       "                 0             1             2             3             4   \\\n",
       "count  28480.000000  28480.000000  28480.000000  28480.000000  28480.000000   \n",
       "mean       0.547613      0.938296      0.728597      0.925471      0.252441   \n",
       "std        0.274623      0.049329      0.029943      0.029529      0.069037   \n",
       "min        0.000000      0.000000      0.000000      0.000000      0.000000   \n",
       "25%        0.312970      0.915725      0.717455      0.908733      0.211006   \n",
       "50%        0.489541      0.938640      0.729857      0.929154      0.251270   \n",
       "75%        0.804838      0.971381      0.743316      0.945071      0.288707   \n",
       "max        1.000000      1.000000      1.000000      1.000000      1.000000   \n",
       "\n",
       "                 5             6             7             8             9   \\\n",
       "count  28480.000000  28480.000000  28480.000000  28480.000000  28480.000000   \n",
       "mean       0.798242      0.214404      0.161236      0.608907      0.510398   \n",
       "std        0.010597      0.014848      0.009561      0.025096      0.064502   \n",
       "min        0.000000      0.000000      0.000000      0.000000      0.000000   \n",
       "25%        0.793374      0.206117      0.157362      0.604165      0.472665   \n",
       "50%        0.797846      0.211399      0.161549      0.609315      0.507269   \n",
       "75%        0.802548      0.218621      0.165269      0.616150      0.546015   \n",
       "max        1.000000      1.000000      1.000000      1.000000      1.000000   \n",
       "\n",
       "       ...            20            21            22            23  \\\n",
       "count  ...  28480.000000  28480.000000  28480.000000  28480.000000   \n",
       "mean   ...      0.776460      0.489143      0.597154      0.523287   \n",
       "std    ...      0.011912      0.016734      0.051087      0.015312   \n",
       "min    ...      0.000000      0.000000      0.000000      0.000000   \n",
       "25%    ...      0.773611      0.483952      0.559500      0.519201   \n",
       "50%    ...      0.775758      0.488387      0.597839      0.522979   \n",
       "75%    ...      0.778530      0.493259      0.634512      0.526977   \n",
       "max    ...      1.000000      1.000000      1.000000      1.000000   \n",
       "\n",
       "                 24            25            26            27            28  \\\n",
       "count  28480.000000  28480.000000  28480.000000  28480.000000  28480.000000   \n",
       "mean       0.381960      0.451143      0.341835      0.174938      0.496493   \n",
       "std        0.082195      0.051525      0.093185      0.011292      0.011341   \n",
       "min        0.000000      0.000000      0.000000      0.000000      0.000000   \n",
       "25%        0.334215      0.419730      0.279219      0.172918      0.494770   \n",
       "50%        0.387833      0.452536      0.331575      0.174845      0.496850   \n",
       "75%        0.441586      0.485819      0.388309      0.177244      0.499032   \n",
       "max        1.000000      1.000000      1.000000      1.000000      1.000000   \n",
       "\n",
       "                 29  \n",
       "count  28480.000000  \n",
       "mean       0.003354  \n",
       "std        0.010740  \n",
       "min        0.000000  \n",
       "25%        0.000210  \n",
       "50%        0.000854  \n",
       "75%        0.002958  \n",
       "max        1.000000  \n",
       "\n",
       "[8 rows x 30 columns]"
      ]
     },
     "execution_count": 18,
     "metadata": {},
     "output_type": "execute_result"
    }
   ],
   "source": [
    "pd.DataFrame(df_num).describe()"
   ]
  },
  {
   "cell_type": "code",
   "execution_count": 19,
   "metadata": {
    "execution": {
     "iopub.execute_input": "2023-04-03T20:13:13.663326Z",
     "iopub.status.busy": "2023-04-03T20:13:13.662520Z",
     "iopub.status.idle": "2023-04-03T20:13:33.416909Z",
     "shell.execute_reply": "2023-04-03T20:13:33.416279Z",
     "shell.execute_reply.started": "2023-04-03T20:08:13.674280Z"
    },
    "papermill": {
     "duration": 19.787925,
     "end_time": "2023-04-03T20:13:33.417023",
     "exception": false,
     "start_time": "2023-04-03T20:13:13.629098",
     "status": "completed"
    },
    "tags": []
   },
   "outputs": [
    {
     "data": {
      "image/png": "[encoded data removed]",
      "text/plain": [
       "<Figure size 432x288 with 1 Axes>"
      ]
     },
     "metadata": {
      "needs_background": "light"
     },
     "output_type": "display_data"
    },
    {
     "name": "stdout",
     "output_type": "stream",
     "text": [
      "time taken for optimizing epsilon in dbscan is  19.750818252563477 seconds\n"
     ]
    }
   ],
   "source": [
    "start_time = time.time()\n",
    "\n",
    "neigh = NearestNeighbors(n_neighbors=60) ## 60 as it is double of number of numeric columns ##\n",
    "nbrs = neigh.fit(df_num)\n",
    "distances, indices = nbrs.kneighbors(df_num)\n",
    "\n",
    "distances = np.sort(distances, axis=0)\n",
    "distances = distances[:,1]\n",
    "plt.plot(distances)\n",
    "#plt.axhline(y =0.07,color='gray')\n",
    "#plt.axhline(y =0.06,color='gray')\n",
    "#plt.axhline(y =0.05,color='gray')\n",
    "#plt.axhline(y =0.03,color='gray')\n",
    "plt.axhline(y =0.095,color='gray')\n",
    "plt.show()\n",
    "\n",
    "end_time = time.time()\n",
    "print(\"time taken for optimizing epsilon in dbscan is \" , end_time - start_time , \"seconds\")"
   ]
  },
  {
   "cell_type": "code",
   "execution_count": 20,
   "metadata": {
    "execution": {
     "iopub.execute_input": "2023-04-03T20:13:33.487501Z",
     "iopub.status.busy": "2023-04-03T20:13:33.486751Z",
     "iopub.status.idle": "2023-04-03T20:13:33.592851Z",
     "shell.execute_reply": "2023-04-03T20:13:33.592258Z",
     "shell.execute_reply.started": "2023-04-03T20:09:09.501500Z"
    },
    "papermill": {
     "duration": 0.14699,
     "end_time": "2023-04-03T20:13:33.592962",
     "exception": false,
     "start_time": "2023-04-03T20:13:33.445972",
     "status": "completed"
    },
    "tags": []
   },
   "outputs": [
    {
     "data": {
      "image/png": "[encoded data removed]",
      "text/plain": [
       "<Figure size 432x288 with 1 Axes>"
      ]
     },
     "metadata": {
      "needs_background": "light"
     },
     "output_type": "display_data"
    }
   ],
   "source": [
    "## little fancy line plot for distance ##\n",
    "## axis description ##\n",
    "plt.plot(distances)\n",
    "plt.axhline(y =0.25,color='gray')\n",
    "plt.xlabel(\"Points sorted by average distance of 26 nearest neighbours\")\n",
    "plt.ylabel(\"Average distance of 26 nearest neighbours\")\n",
    "plt.show()"
   ]
  },
  {
   "cell_type": "code",
   "execution_count": 21,
   "metadata": {
    "execution": {
     "iopub.execute_input": "2023-04-03T20:13:33.652140Z",
     "iopub.status.busy": "2023-04-03T20:13:33.651665Z",
     "iopub.status.idle": "2023-04-03T20:13:33.655609Z",
     "shell.execute_reply": "2023-04-03T20:13:33.655060Z",
     "shell.execute_reply.started": "2023-04-03T20:09:09.797615Z"
    },
    "papermill": {
     "duration": 0.035002,
     "end_time": "2023-04-03T20:13:33.655728",
     "exception": false,
     "start_time": "2023-04-03T20:13:33.620726",
     "status": "completed"
    },
    "tags": []
   },
   "outputs": [],
   "source": [
    "### Now applying DBSCAN eith these parameters ###"
   ]
  },
  {
   "cell_type": "code",
   "execution_count": 22,
   "metadata": {
    "execution": {
     "iopub.execute_input": "2023-04-03T20:13:33.716862Z",
     "iopub.status.busy": "2023-04-03T20:13:33.716236Z",
     "iopub.status.idle": "2023-04-03T20:14:01.364749Z",
     "shell.execute_reply": "2023-04-03T20:14:01.366080Z",
     "shell.execute_reply.started": "2023-04-03T20:09:09.803581Z"
    },
    "papermill": {
     "duration": 27.682985,
     "end_time": "2023-04-03T20:14:01.366376",
     "exception": false,
     "start_time": "2023-04-03T20:13:33.683391",
     "status": "completed"
    },
    "tags": []
   },
   "outputs": [
    {
     "name": "stdout",
     "output_type": "stream",
     "text": [
      "time taken for this dbscan is  27.646162271499634 seconds\n"
     ]
    }
   ],
   "source": [
    "start_time = time.time()\n",
    "\n",
    "db = DBSCAN(eps = 0.25, min_samples = 60).fit(df_num)\n",
    "\n",
    "end_time = time.time()\n",
    "print(\"time taken for this dbscan is \" , end_time - start_time , \"seconds\")"
   ]
  },
  {
   "cell_type": "code",
   "execution_count": 23,
   "metadata": {
    "execution": {
     "iopub.execute_input": "2023-04-03T20:14:01.429389Z",
     "iopub.status.busy": "2023-04-03T20:14:01.428705Z",
     "iopub.status.idle": "2023-04-03T20:14:01.433637Z",
     "shell.execute_reply": "2023-04-03T20:14:01.433096Z",
     "shell.execute_reply.started": "2023-04-03T20:10:31.218085Z"
    },
    "papermill": {
     "duration": 0.03762,
     "end_time": "2023-04-03T20:14:01.433756",
     "exception": false,
     "start_time": "2023-04-03T20:14:01.396136",
     "status": "completed"
    },
    "tags": []
   },
   "outputs": [],
   "source": [
    "labels = db.labels_\n",
    "small_sub['labels'] = labels"
   ]
  },
  {
   "cell_type": "code",
   "execution_count": 24,
   "metadata": {
    "execution": {
     "iopub.execute_input": "2023-04-03T20:14:01.495389Z",
     "iopub.status.busy": "2023-04-03T20:14:01.494799Z",
     "iopub.status.idle": "2023-04-03T20:14:01.517096Z",
     "shell.execute_reply": "2023-04-03T20:14:01.516600Z",
     "shell.execute_reply.started": "2023-04-03T20:10:31.227123Z"
    },
    "papermill": {
     "duration": 0.055243,
     "end_time": "2023-04-03T20:14:01.517213",
     "exception": false,
     "start_time": "2023-04-03T20:14:01.461970",
     "status": "completed"
    },
    "tags": []
   },
   "outputs": [],
   "source": [
    "small_sub['target'] = np.where(small_sub['labels']==0 , 0 , 1)"
   ]
  },
  {
   "cell_type": "code",
   "execution_count": 25,
   "metadata": {
    "execution": {
     "iopub.execute_input": "2023-04-03T20:14:01.596103Z",
     "iopub.status.busy": "2023-04-03T20:14:01.595449Z",
     "iopub.status.idle": "2023-04-03T20:14:01.600210Z",
     "shell.execute_reply": "2023-04-03T20:14:01.599650Z",
     "shell.execute_reply.started": "2023-04-03T20:10:31.266927Z"
    },
    "papermill": {
     "duration": 0.054935,
     "end_time": "2023-04-03T20:14:01.600329",
     "exception": false,
     "start_time": "2023-04-03T20:14:01.545394",
     "status": "completed"
    },
    "tags": []
   },
   "outputs": [
    {
     "data": {
      "text/html": [
       "<div>\n",
       "<style scoped>\n",
       "    .dataframe tbody tr th:only-of-type {\n",
       "        vertical-align: middle;\n",
       "    }\n",
       "\n",
       "    .dataframe tbody tr th {\n",
       "        vertical-align: top;\n",
       "    }\n",
       "\n",
       "    .dataframe thead th {\n",
       "        text-align: right;\n",
       "    }\n",
       "</style>\n",
       "<table border=\"1\" class=\"dataframe\">\n",
       "  <thead>\n",
       "    <tr style=\"text-align: right;\">\n",
       "      <th></th>\n",
       "      <th>Time</th>\n",
       "      <th>V1</th>\n",
       "      <th>V2</th>\n",
       "      <th>V3</th>\n",
       "      <th>V4</th>\n",
       "      <th>V5</th>\n",
       "      <th>V6</th>\n",
       "      <th>V7</th>\n",
       "      <th>V8</th>\n",
       "      <th>V9</th>\n",
       "      <th>...</th>\n",
       "      <th>V23</th>\n",
       "      <th>V24</th>\n",
       "      <th>V25</th>\n",
       "      <th>V26</th>\n",
       "      <th>V27</th>\n",
       "      <th>V28</th>\n",
       "      <th>Amount</th>\n",
       "      <th>Class</th>\n",
       "      <th>labels</th>\n",
       "      <th>target</th>\n",
       "    </tr>\n",
       "  </thead>\n",
       "  <tbody>\n",
       "    <tr>\n",
       "      <th>183484</th>\n",
       "      <td>125821.0</td>\n",
       "      <td>-0.323334</td>\n",
       "      <td>1.057455</td>\n",
       "      <td>-0.048341</td>\n",
       "      <td>-0.607204</td>\n",
       "      <td>1.259821</td>\n",
       "      <td>-0.091761</td>\n",
       "      <td>1.159101</td>\n",
       "      <td>-0.124335</td>\n",
       "      <td>-0.174640</td>\n",
       "      <td>...</td>\n",
       "      <td>-0.261613</td>\n",
       "      <td>-0.046651</td>\n",
       "      <td>0.211512</td>\n",
       "      <td>0.008297</td>\n",
       "      <td>0.108494</td>\n",
       "      <td>0.161139</td>\n",
       "      <td>40.00</td>\n",
       "      <td>0</td>\n",
       "      <td>0</td>\n",
       "      <td>0</td>\n",
       "    </tr>\n",
       "    <tr>\n",
       "      <th>255448</th>\n",
       "      <td>157235.0</td>\n",
       "      <td>-0.349718</td>\n",
       "      <td>0.932619</td>\n",
       "      <td>0.142992</td>\n",
       "      <td>-0.657071</td>\n",
       "      <td>1.169784</td>\n",
       "      <td>-0.733369</td>\n",
       "      <td>1.009985</td>\n",
       "      <td>-0.071069</td>\n",
       "      <td>-0.302083</td>\n",
       "      <td>...</td>\n",
       "      <td>-0.030360</td>\n",
       "      <td>0.490035</td>\n",
       "      <td>-0.404816</td>\n",
       "      <td>0.134350</td>\n",
       "      <td>0.076830</td>\n",
       "      <td>0.175562</td>\n",
       "      <td>1.98</td>\n",
       "      <td>0</td>\n",
       "      <td>0</td>\n",
       "      <td>0</td>\n",
       "    </tr>\n",
       "    <tr>\n",
       "      <th>244749</th>\n",
       "      <td>152471.0</td>\n",
       "      <td>-1.614711</td>\n",
       "      <td>-2.406570</td>\n",
       "      <td>0.326194</td>\n",
       "      <td>0.665520</td>\n",
       "      <td>2.369268</td>\n",
       "      <td>-1.775367</td>\n",
       "      <td>-1.139049</td>\n",
       "      <td>0.329904</td>\n",
       "      <td>0.903813</td>\n",
       "      <td>...</td>\n",
       "      <td>0.965054</td>\n",
       "      <td>0.640981</td>\n",
       "      <td>-1.801998</td>\n",
       "      <td>-1.041114</td>\n",
       "      <td>0.286285</td>\n",
       "      <td>0.437322</td>\n",
       "      <td>96.00</td>\n",
       "      <td>0</td>\n",
       "      <td>0</td>\n",
       "      <td>0</td>\n",
       "    </tr>\n",
       "    <tr>\n",
       "      <th>63919</th>\n",
       "      <td>50927.0</td>\n",
       "      <td>-2.477184</td>\n",
       "      <td>0.860613</td>\n",
       "      <td>1.441850</td>\n",
       "      <td>1.051019</td>\n",
       "      <td>-1.856621</td>\n",
       "      <td>2.078384</td>\n",
       "      <td>0.510828</td>\n",
       "      <td>-0.243399</td>\n",
       "      <td>-0.260691</td>\n",
       "      <td>...</td>\n",
       "      <td>0.150121</td>\n",
       "      <td>-0.260777</td>\n",
       "      <td>0.005183</td>\n",
       "      <td>-0.177847</td>\n",
       "      <td>-0.510060</td>\n",
       "      <td>-0.660533</td>\n",
       "      <td>308.00</td>\n",
       "      <td>0</td>\n",
       "      <td>0</td>\n",
       "      <td>0</td>\n",
       "    </tr>\n",
       "    <tr>\n",
       "      <th>11475</th>\n",
       "      <td>19899.0</td>\n",
       "      <td>1.338831</td>\n",
       "      <td>-0.547264</td>\n",
       "      <td>0.737389</td>\n",
       "      <td>-0.212383</td>\n",
       "      <td>-1.110039</td>\n",
       "      <td>-0.525744</td>\n",
       "      <td>-0.801403</td>\n",
       "      <td>-0.063672</td>\n",
       "      <td>0.997276</td>\n",
       "      <td>...</td>\n",
       "      <td>0.067055</td>\n",
       "      <td>0.333122</td>\n",
       "      <td>0.379087</td>\n",
       "      <td>-0.268706</td>\n",
       "      <td>-0.002769</td>\n",
       "      <td>0.003272</td>\n",
       "      <td>5.00</td>\n",
       "      <td>0</td>\n",
       "      <td>0</td>\n",
       "      <td>0</td>\n",
       "    </tr>\n",
       "  </tbody>\n",
       "</table>\n",
       "<p>5 rows × 33 columns</p>\n",
       "</div>"
      ],
      "text/plain": [
       "            Time        V1        V2        V3        V4        V5        V6  \\\n",
       "183484  125821.0 -0.323334  1.057455 -0.048341 -0.607204  1.259821 -0.091761   \n",
       "255448  157235.0 -0.349718  0.932619  0.142992 -0.657071  1.169784 -0.733369   \n",
       "244749  152471.0 -1.614711 -2.406570  0.326194  0.665520  2.369268 -1.775367   \n",
       "63919    50927.0 -2.477184  0.860613  1.441850  1.051019 -1.856621  2.078384   \n",
       "11475    19899.0  1.338831 -0.547264  0.737389 -0.212383 -1.110039 -0.525744   \n",
       "\n",
       "              V7        V8        V9  ...       V23       V24       V25  \\\n",
       "183484  1.159101 -0.124335 -0.174640  ... -0.261613 -0.046651  0.211512   \n",
       "255448  1.009985 -0.071069 -0.302083  ... -0.030360  0.490035 -0.404816   \n",
       "244749 -1.139049  0.329904  0.903813  ...  0.965054  0.640981 -1.801998   \n",
       "63919   0.510828 -0.243399 -0.260691  ...  0.150121 -0.260777  0.005183   \n",
       "11475  -0.801403 -0.063672  0.997276  ...  0.067055  0.333122  0.379087   \n",
       "\n",
       "             V26       V27       V28  Amount  Class  labels  target  \n",
       "183484  0.008297  0.108494  0.161139   40.00      0       0       0  \n",
       "255448  0.134350  0.076830  0.175562    1.98      0       0       0  \n",
       "244749 -1.041114  0.286285  0.437322   96.00      0       0       0  \n",
       "63919  -0.177847 -0.510060 -0.660533  308.00      0       0       0  \n",
       "11475  -0.268706 -0.002769  0.003272    5.00      0       0       0  \n",
       "\n",
       "[5 rows x 33 columns]"
      ]
     },
     "execution_count": 25,
     "metadata": {},
     "output_type": "execute_result"
    }
   ],
   "source": [
    "small_sub.head()"
   ]
  },
  {
   "cell_type": "code",
   "execution_count": 26,
   "metadata": {
    "execution": {
     "iopub.execute_input": "2023-04-03T20:14:01.661376Z",
     "iopub.status.busy": "2023-04-03T20:14:01.660753Z",
     "iopub.status.idle": "2023-04-03T20:14:01.665653Z",
     "shell.execute_reply": "2023-04-03T20:14:01.666081Z",
     "shell.execute_reply.started": "2023-04-03T20:10:31.299518Z"
    },
    "papermill": {
     "duration": 0.037758,
     "end_time": "2023-04-03T20:14:01.666210",
     "exception": false,
     "start_time": "2023-04-03T20:14:01.628452",
     "status": "completed"
    },
    "tags": []
   },
   "outputs": [
    {
     "data": {
      "text/plain": [
       " 0    27538\n",
       "-1      942\n",
       "Name: labels, dtype: int64"
      ]
     },
     "execution_count": 26,
     "metadata": {},
     "output_type": "execute_result"
    }
   ],
   "source": [
    "small_sub.labels.value_counts()"
   ]
  },
  {
   "cell_type": "code",
   "execution_count": 27,
   "metadata": {
    "execution": {
     "iopub.execute_input": "2023-04-03T20:14:01.731631Z",
     "iopub.status.busy": "2023-04-03T20:14:01.728827Z",
     "iopub.status.idle": "2023-04-03T20:14:01.735236Z",
     "shell.execute_reply": "2023-04-03T20:14:01.735664Z",
     "shell.execute_reply.started": "2023-04-03T20:10:31.308949Z"
    },
    "papermill": {
     "duration": 0.040173,
     "end_time": "2023-04-03T20:14:01.735807",
     "exception": false,
     "start_time": "2023-04-03T20:14:01.695634",
     "status": "completed"
    },
    "tags": []
   },
   "outputs": [
    {
     "data": {
      "text/plain": [
       "0    28425\n",
       "1       55\n",
       "Name: Class, dtype: int64"
      ]
     },
     "execution_count": 27,
     "metadata": {},
     "output_type": "execute_result"
    }
   ],
   "source": [
    "small_sub.Class.value_counts()"
   ]
  },
  {
   "cell_type": "code",
   "execution_count": 28,
   "metadata": {
    "execution": {
     "iopub.execute_input": "2023-04-03T20:14:01.797209Z",
     "iopub.status.busy": "2023-04-03T20:14:01.796737Z",
     "iopub.status.idle": "2023-04-03T20:14:01.804618Z",
     "shell.execute_reply": "2023-04-03T20:14:01.803946Z",
     "shell.execute_reply.started": "2023-04-03T20:10:31.327603Z"
    },
    "papermill": {
     "duration": 0.040146,
     "end_time": "2023-04-03T20:14:01.804743",
     "exception": false,
     "start_time": "2023-04-03T20:14:01.764597",
     "status": "completed"
    },
    "tags": []
   },
   "outputs": [
    {
     "data": {
      "text/plain": [
       "0    27538\n",
       "1      942\n",
       "Name: target, dtype: int64"
      ]
     },
     "execution_count": 28,
     "metadata": {},
     "output_type": "execute_result"
    }
   ],
   "source": [
    "small_sub.target.value_counts()"
   ]
  },
  {
   "cell_type": "code",
   "execution_count": 29,
   "metadata": {
    "execution": {
     "iopub.execute_input": "2023-04-03T20:14:01.871945Z",
     "iopub.status.busy": "2023-04-03T20:14:01.871397Z",
     "iopub.status.idle": "2023-04-03T20:14:01.888577Z",
     "shell.execute_reply": "2023-04-03T20:14:01.888099Z",
     "shell.execute_reply.started": "2023-04-03T20:10:31.342705Z"
    },
    "papermill": {
     "duration": 0.054733,
     "end_time": "2023-04-03T20:14:01.888674",
     "exception": false,
     "start_time": "2023-04-03T20:14:01.833941",
     "status": "completed"
    },
    "tags": []
   },
   "outputs": [
    {
     "data": {
      "text/html": [
       "<div>\n",
       "<style scoped>\n",
       "    .dataframe tbody tr th:only-of-type {\n",
       "        vertical-align: middle;\n",
       "    }\n",
       "\n",
       "    .dataframe tbody tr th {\n",
       "        vertical-align: top;\n",
       "    }\n",
       "\n",
       "    .dataframe thead th {\n",
       "        text-align: right;\n",
       "    }\n",
       "</style>\n",
       "<table border=\"1\" class=\"dataframe\">\n",
       "  <thead>\n",
       "    <tr style=\"text-align: right;\">\n",
       "      <th>target</th>\n",
       "      <th>0</th>\n",
       "      <th>1</th>\n",
       "    </tr>\n",
       "    <tr>\n",
       "      <th>Class</th>\n",
       "      <th></th>\n",
       "      <th></th>\n",
       "    </tr>\n",
       "  </thead>\n",
       "  <tbody>\n",
       "    <tr>\n",
       "      <th>0</th>\n",
       "      <td>27531</td>\n",
       "      <td>894</td>\n",
       "    </tr>\n",
       "    <tr>\n",
       "      <th>1</th>\n",
       "      <td>7</td>\n",
       "      <td>48</td>\n",
       "    </tr>\n",
       "  </tbody>\n",
       "</table>\n",
       "</div>"
      ],
      "text/plain": [
       "target      0    1\n",
       "Class             \n",
       "0       27531  894\n",
       "1           7   48"
      ]
     },
     "execution_count": 29,
     "metadata": {},
     "output_type": "execute_result"
    }
   ],
   "source": [
    "pd.crosstab(small_sub.Class , small_sub.target)"
   ]
  },
  {
   "cell_type": "code",
   "execution_count": 30,
   "metadata": {
    "execution": {
     "iopub.execute_input": "2023-04-03T20:14:01.952469Z",
     "iopub.status.busy": "2023-04-03T20:14:01.951752Z",
     "iopub.status.idle": "2023-04-03T20:14:01.955617Z",
     "shell.execute_reply": "2023-04-03T20:14:01.955156Z",
     "shell.execute_reply.started": "2023-04-03T20:10:31.386638Z"
    },
    "papermill": {
     "duration": 0.03781,
     "end_time": "2023-04-03T20:14:01.955708",
     "exception": false,
     "start_time": "2023-04-03T20:14:01.917898",
     "status": "completed"
    },
    "tags": []
   },
   "outputs": [
    {
     "data": {
      "text/plain": [
       "Index(['Time', 'V1', 'V2', 'V3', 'V4', 'V5', 'V6', 'V7', 'V8', 'V9', 'V10',\n",
       "       'V11', 'V12', 'V13', 'V14', 'V15', 'V16', 'V17', 'V18', 'V19', 'V20',\n",
       "       'V21', 'V22', 'V23', 'V24', 'V25', 'V26', 'V27', 'V28', 'Amount',\n",
       "       'Class', 'labels', 'target'],\n",
       "      dtype='object')"
      ]
     },
     "execution_count": 30,
     "metadata": {},
     "output_type": "execute_result"
    }
   ],
   "source": [
    "small_sub.columns"
   ]
  },
  {
   "cell_type": "code",
   "execution_count": 31,
   "metadata": {
    "execution": {
     "iopub.execute_input": "2023-04-03T20:14:02.018635Z",
     "iopub.status.busy": "2023-04-03T20:14:02.017873Z",
     "iopub.status.idle": "2023-04-03T20:14:02.020509Z",
     "shell.execute_reply": "2023-04-03T20:14:02.020042Z",
     "shell.execute_reply.started": "2023-04-03T20:10:31.398398Z"
    },
    "papermill": {
     "duration": 0.035666,
     "end_time": "2023-04-03T20:14:02.020605",
     "exception": false,
     "start_time": "2023-04-03T20:14:01.984939",
     "status": "completed"
    },
    "tags": []
   },
   "outputs": [],
   "source": [
    "#### Now LightGBM training 5 folds ####"
   ]
  },
  {
   "cell_type": "code",
   "execution_count": 32,
   "metadata": {
    "execution": {
     "iopub.execute_input": "2023-04-03T20:14:02.094529Z",
     "iopub.status.busy": "2023-04-03T20:14:02.093713Z",
     "iopub.status.idle": "2023-04-03T20:14:05.334325Z",
     "shell.execute_reply": "2023-04-03T20:14:05.333822Z",
     "shell.execute_reply.started": "2023-04-03T20:10:31.411716Z"
    },
    "papermill": {
     "duration": 3.284384,
     "end_time": "2023-04-03T20:14:05.334455",
     "exception": false,
     "start_time": "2023-04-03T20:14:02.050071",
     "status": "completed"
    },
    "tags": []
   },
   "outputs": [
    {
     "name": "stdout",
     "output_type": "stream",
     "text": [
      "Fold 0\n",
      "Training until validation scores don't improve for 10 rounds\n",
      "[20]\ttraining's auc: 0.947914\tvalid_1's auc: 0.944899\n",
      "[40]\ttraining's auc: 0.964778\tvalid_1's auc: 0.960361\n",
      "[60]\ttraining's auc: 0.975009\tvalid_1's auc: 0.968829\n",
      "[80]\ttraining's auc: 0.978299\tvalid_1's auc: 0.972949\n",
      "[100]\ttraining's auc: 0.980571\tvalid_1's auc: 0.973671\n",
      "Did not meet early stopping. Best iteration is:\n",
      "[100]\ttraining's auc: 0.980571\tvalid_1's auc: 0.973671\n"
     ]
    },
    {
     "data": {
      "image/png": "[encoded data removed]",
      "text/plain": [
       "<Figure size 864x576 with 1 Axes>"
      ]
     },
     "metadata": {
      "needs_background": "light"
     },
     "output_type": "display_data"
    },
    {
     "name": "stdout",
     "output_type": "stream",
     "text": [
      "Fold 1\n",
      "Training until validation scores don't improve for 10 rounds\n",
      "[20]\ttraining's auc: 0.951715\tvalid_1's auc: 0.939221\n",
      "[40]\ttraining's auc: 0.963564\tvalid_1's auc: 0.952516\n",
      "[60]\ttraining's auc: 0.974379\tvalid_1's auc: 0.968336\n",
      "[80]\ttraining's auc: 0.977696\tvalid_1's auc: 0.972824\n",
      "[100]\ttraining's auc: 0.980303\tvalid_1's auc: 0.975602\n",
      "Did not meet early stopping. Best iteration is:\n",
      "[100]\ttraining's auc: 0.980303\tvalid_1's auc: 0.975602\n"
     ]
    },
    {
     "data": {
      "image/png": "[encoded data removed]",
      "text/plain": [
       "<Figure size 864x576 with 1 Axes>"
      ]
     },
     "metadata": {
      "needs_background": "light"
     },
     "output_type": "display_data"
    },
    {
     "name": "stdout",
     "output_type": "stream",
     "text": [
      "Fold 2\n",
      "Training until validation scores don't improve for 10 rounds\n",
      "[20]\ttraining's auc: 0.956115\tvalid_1's auc: 0.959738\n",
      "[40]\ttraining's auc: 0.967875\tvalid_1's auc: 0.96728\n",
      "[60]\ttraining's auc: 0.974849\tvalid_1's auc: 0.974706\n",
      "[80]\ttraining's auc: 0.978935\tvalid_1's auc: 0.978075\n",
      "[100]\ttraining's auc: 0.981654\tvalid_1's auc: 0.980214\n",
      "Did not meet early stopping. Best iteration is:\n",
      "[100]\ttraining's auc: 0.981654\tvalid_1's auc: 0.980214\n"
     ]
    },
    {
     "data": {
      "image/png": "[encoded data removed]",
      "text/plain": [
       "<Figure size 864x576 with 1 Axes>"
      ]
     },
     "metadata": {
      "needs_background": "light"
     },
     "output_type": "display_data"
    },
    {
     "name": "stdout",
     "output_type": "stream",
     "text": [
      "Fold 3\n",
      "Training until validation scores don't improve for 10 rounds\n",
      "[20]\ttraining's auc: 0.95469\tvalid_1's auc: 0.963627\n",
      "[40]\ttraining's auc: 0.968025\tvalid_1's auc: 0.972818\n",
      "[60]\ttraining's auc: 0.974788\tvalid_1's auc: 0.977461\n",
      "[80]\ttraining's auc: 0.979195\tvalid_1's auc: 0.980481\n",
      "[100]\ttraining's auc: 0.982027\tvalid_1's auc: 0.982657\n",
      "Did not meet early stopping. Best iteration is:\n",
      "[100]\ttraining's auc: 0.982027\tvalid_1's auc: 0.982657\n"
     ]
    },
    {
     "data": {
      "image/png": "[encoded data removed]",
      "text/plain": [
       "<Figure size 864x576 with 1 Axes>"
      ]
     },
     "metadata": {
      "needs_background": "light"
     },
     "output_type": "display_data"
    },
    {
     "name": "stdout",
     "output_type": "stream",
     "text": [
      "Fold 4\n",
      "Training until validation scores don't improve for 10 rounds\n",
      "[20]\ttraining's auc: 0.960571\tvalid_1's auc: 0.944673\n",
      "[40]\ttraining's auc: 0.971854\tvalid_1's auc: 0.959974\n",
      "[60]\ttraining's auc: 0.97658\tvalid_1's auc: 0.965802\n",
      "[80]\ttraining's auc: 0.980452\tvalid_1's auc: 0.969041\n",
      "[100]\ttraining's auc: 0.983281\tvalid_1's auc: 0.97185\n",
      "Did not meet early stopping. Best iteration is:\n",
      "[100]\ttraining's auc: 0.983281\tvalid_1's auc: 0.97185\n"
     ]
    },
    {
     "data": {
      "image/png": "[encoded data removed]",
      "text/plain": [
       "<Figure size 864x576 with 1 Axes>"
      ]
     },
     "metadata": {
      "needs_background": "light"
     },
     "output_type": "display_data"
    },
    {
     "name": "stdout",
     "output_type": "stream",
     "text": [
      "time taken for model run and predictions 3.2371718883514404 seconds\n"
     ]
    }
   ],
   "source": [
    "N = 5\n",
    "kf = KFold(n_splits=N)\n",
    "y_train = small_sub['target'].copy()\n",
    "start = time.time()\n",
    "\n",
    "features = [c for c in small_sub.columns if c not in ['Class','labels','target']]\n",
    "\n",
    "param = {\n",
    "    'bagging_freq': 5,          \n",
    "    'bagging_fraction': 0.2, \n",
    "    #'boost_from_average':'false',   \n",
    "    'boost': 'gbdt',            \n",
    "    'feature_fraction': 0.7,     \n",
    "    'learning_rate': 0.05,\n",
    "    'max_depth': -1,            \n",
    "    'metric':'auc',               \n",
    "    'min_data_in_leaf': 80,    \n",
    "    'min_sum_hessian_in_leaf': 10.0,\n",
    "    'num_leaves': 31,         \n",
    "    #'num_threads': 8,           \n",
    "    #'tree_learner': 'serial',  \n",
    "    'objective': 'binary',\n",
    "    #'reg_alpha': 0.1302650970728192,\n",
    "    #'reg_lambda': 0.3603427518866501,\n",
    "    'verbosity': 1\n",
    "}\n",
    "folds = KFold(n_splits=N)\n",
    "oof = np.zeros(len(small_sub))\n",
    "\n",
    "#predictions = np.zeros(len(X_test))\n",
    "\n",
    "for fold_, (trn_idx, val_idx) in enumerate(folds.split(small_sub.values, y_train.values)):\n",
    "    print(\"Fold {}\".format(fold_))\n",
    "    trn_data = lgb.Dataset(small_sub.iloc[trn_idx][features], label=y_train.iloc[trn_idx])\n",
    "    val_data = lgb.Dataset(small_sub.iloc[val_idx][features], label=y_train.iloc[val_idx])\n",
    "    clf = lgb.train(param, trn_data, 100, valid_sets = [trn_data, val_data], verbose_eval=20, early_stopping_rounds = 10)\n",
    "    oof[val_idx] = clf.predict(small_sub.iloc[val_idx][features], num_iteration=clf.best_iteration)\n",
    "    #predictions += clf.predict(X_test[features], num_iteration=clf.best_iteration) / folds.n_splits\n",
    "    \n",
    "    feature_imp = pd.DataFrame(sorted(zip(clf.feature_importance(),features)), columns=['Value','Feature'])\n",
    "    plt.figure(figsize=(12, 8))\n",
    "    sns.barplot(x=\"Value\", y=\"Feature\", data=feature_imp.sort_values(by=\"Value\", ascending=False).head(20))\n",
    "    plt.title('LightGBM Features')\n",
    "    plt.tight_layout()\n",
    "    plt.show()\n",
    "    #print(feature_imp.Feature[:20])\n",
    "    #a[fold_] = feature_imp.Feature[-20:].tolist()\n",
    "    \n",
    "\n",
    "stop = time.time()\n",
    "print(\"time taken for model run and predictions\" , stop - start , \"seconds\")"
   ]
  },
  {
   "cell_type": "code",
   "execution_count": null,
   "metadata": {
    "papermill": {
     "duration": 0.035187,
     "end_time": "2023-04-03T20:14:05.405063",
     "exception": false,
     "start_time": "2023-04-03T20:14:05.369876",
     "status": "completed"
    },
    "tags": []
   },
   "outputs": [],
   "source": []
  }
 ],
 "metadata": {
  "kernelspec": {
   "display_name": "Python 3",
   "language": "python",
   "name": "python3"
  },
  "language_info": {
   "codemirror_mode": {
    "name": "ipython",
    "version": 3
   },
   "file_extension": ".py",
   "mimetype": "text/x-python",
   "name": "python",
   "nbconvert_exporter": "python",
   "pygments_lexer": "ipython3",
   "version": "3.7.6"
  },
  "papermill": {
   "duration": 63.79014,
   "end_time": "2023-04-03T20:14:06.491930",
   "environment_variables": {},
   "exception": null,
   "input_path": "__notebook__.ipynb",
   "output_path": "__notebook__.ipynb",
   "parameters": {},
   "start_time": "2023-04-03T20:13:02.701790",
   "version": "2.1.0"
  }
 },
 "nbformat": 4,
 "nbformat_minor": 4
}
